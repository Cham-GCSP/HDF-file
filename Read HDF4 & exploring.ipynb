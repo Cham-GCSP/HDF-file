{
 "cells": [
  {
   "cell_type": "code",
   "execution_count": 5,
   "id": "f66924f1",
   "metadata": {},
   "outputs": [
    {
     "data": {
      "text/plain": [
       "'D:\\\\Attibutable death & PM2.5\\\\Data\\\\GOCI_PM25_2015_2018_Yonsei\\\\PM25_2015_localsatellite\\\\PM_NKSK_hdf'"
      ]
     },
     "execution_count": 5,
     "metadata": {},
     "output_type": "execute_result"
    }
   ],
   "source": [
    "import os\n",
    "os.chdir('D:\\Attibutable death & PM2.5\\Data\\GOCI_PM25_2015_2018_Yonsei\\PM25_2015_localsatellite\\PM_NKSK_hdf')\n",
    "os.getcwd()\n"
   ]
  },
  {
   "cell_type": "code",
   "execution_count": 11,
   "id": "28d3bcba",
   "metadata": {},
   "outputs": [],
   "source": [
    "import gdal\n",
    "hdf_file1 = gdal.Open('GOCI_PM25_2015010100.hdf')\n"
   ]
  },
  {
   "cell_type": "code",
   "execution_count": 12,
   "id": "7ce41a43",
   "metadata": {},
   "outputs": [],
   "source": [
    "subDatasets = hdf_file1.GetSubDatasets()"
   ]
  },
  {
   "cell_type": "code",
   "execution_count": 13,
   "id": "830bcf52",
   "metadata": {},
   "outputs": [
    {
     "data": {
      "text/plain": [
       "[('HDF4_SDS:UNKNOWN:\"GOCI_PM25_2015010100.hdf\":0',\n",
       "  '[473x463] Longitude (32-bit floating-point)'),\n",
       " ('HDF4_SDS:UNKNOWN:\"GOCI_PM25_2015010100.hdf\":1',\n",
       "  '[473x463] Latitude (32-bit floating-point)'),\n",
       " ('HDF4_SDS:UNKNOWN:\"GOCI_PM25_2015010100.hdf\":2',\n",
       "  '[473x463] GOCI_PM25 (32-bit floating-point)')]"
      ]
     },
     "execution_count": 13,
     "metadata": {},
     "output_type": "execute_result"
    }
   ],
   "source": [
    "subDatasets"
   ]
  },
  {
   "cell_type": "code",
   "execution_count": 40,
   "id": "d7e7ad32",
   "metadata": {},
   "outputs": [],
   "source": [
    "# open pm2.5 subdataset\n",
    "\n",
    "pm25 = gdal.Open(subDatasets[2][0])\n",
    "pm_read = pm25.ReadAsArray()"
   ]
  },
  {
   "cell_type": "code",
   "execution_count": 31,
   "id": "b69105e0",
   "metadata": {},
   "outputs": [],
   "source": [
    "# longitude\n",
    "long = gdal.Open(subDatasets[0][0])\n",
    "long_read = long.ReadAsArray()\n"
   ]
  },
  {
   "cell_type": "code",
   "execution_count": 32,
   "id": "e84430bb",
   "metadata": {},
   "outputs": [],
   "source": [
    "# Latitude\n",
    "\n",
    "lat = gdal.Open(subDatasets[1][0])\n",
    "lat_read = lat.ReadAsArray()"
   ]
  },
  {
   "cell_type": "code",
   "execution_count": 36,
   "id": "555288a5",
   "metadata": {},
   "outputs": [
    {
     "data": {
      "text/plain": [
       "(nan, nan, nan, nan)"
      ]
     },
     "execution_count": 36,
     "metadata": {},
     "output_type": "execute_result"
    }
   ],
   "source": [
    "# examine value of data file\n",
    "(pm_read.min(), pm_read.max(), pm_read.mean(), pm_read.std())\n"
   ]
  },
  {
   "cell_type": "code",
   "execution_count": 37,
   "id": "da5a1b92",
   "metadata": {},
   "outputs": [
    {
     "data": {
      "text/plain": [
       "(111.370544, 148.55789, 129.9701, 9.032913)"
      ]
     },
     "execution_count": 37,
     "metadata": {},
     "output_type": "execute_result"
    }
   ],
   "source": [
    "(long_read.min(), long_read.max(), long_read.mean(), long_read.std())\n"
   ]
  },
  {
   "cell_type": "code",
   "execution_count": 38,
   "id": "14217bd9",
   "metadata": {},
   "outputs": [
    {
     "data": {
      "text/plain": [
       "(21.614147, 48.201965, 35.03127, 7.3811)"
      ]
     },
     "execution_count": 38,
     "metadata": {},
     "output_type": "execute_result"
    }
   ],
   "source": [
    "(lat_read.min(), lat_read.max(), lat_read.mean(), lat_read.std())"
   ]
  },
  {
   "cell_type": "code",
   "execution_count": 44,
   "id": "d4396b92",
   "metadata": {
    "scrolled": false
   },
   "outputs": [
    {
     "data": {
      "text/plain": [
       "<matplotlib.colorbar.Colorbar at 0x2a2269f4e50>"
      ]
     },
     "execution_count": 44,
     "metadata": {},
     "output_type": "execute_result"
    },
    {
     "data": {
      "image/png": "[encoded data removed]",
      "text/plain": [
       "<Figure size 432x288 with 2 Axes>"
      ]
     },
     "metadata": {
      "needs_background": "light"
     },
     "output_type": "display_data"
    }
   ],
   "source": [
    "# plotting data\n",
    "import numpy as np\n",
    "import matplotlib.pyplot as plt\n",
    "\n",
    "plt.imshow(pm_read, interpolation = 'nearest', vmin = 0, cmap = plt.cm.gist_earth)\n",
    "plt.colorbar()\n",
    "\n",
    "# The previous code snippet uses imshow. \n",
    "#The first argument is the array (it has to be a 2D array), \n",
    "#the second named argument (interpolation='nearest') tells matplotlib not to interpolate between pixels. \n",
    "#vmin=0 gives the lowest value of the array that will be mapped to the lowest value of the colormap (in this case 0).\n",
    "#cmap selects a matplotlib colormap. You can see what colormaps are available in this page. Finally, we add a colorbar. \n",
    "#These commands provide the following visualisation"
   ]
  },
  {
   "cell_type": "code",
   "execution_count": 49,
   "id": "cf3c226a",
   "metadata": {},
   "outputs": [
    {
     "ename": "ModuleNotFoundError",
     "evalue": "No module named 'rioxarray'",
     "output_type": "error",
     "traceback": [
      "\u001b[1;31m---------------------------------------------------------------------------\u001b[0m",
      "\u001b[1;31mModuleNotFoundError\u001b[0m                       Traceback (most recent call last)",
      "Input \u001b[1;32mIn [49]\u001b[0m, in \u001b[0;36m<cell line: 3>\u001b[1;34m()\u001b[0m\n\u001b[0;32m      1\u001b[0m \u001b[38;5;28;01mimport\u001b[39;00m \u001b[38;5;21;01mnumpy\u001b[39;00m\u001b[38;5;21;01m.\u001b[39;00m\u001b[38;5;21;01mma\u001b[39;00m \u001b[38;5;28;01mas\u001b[39;00m \u001b[38;5;21;01mma\u001b[39;00m\n\u001b[0;32m      2\u001b[0m \u001b[38;5;28;01mimport\u001b[39;00m \u001b[38;5;21;01mxarray\u001b[39;00m \u001b[38;5;28;01mas\u001b[39;00m \u001b[38;5;21;01mxr\u001b[39;00m\n\u001b[1;32m----> 3\u001b[0m \u001b[38;5;28;01mimport\u001b[39;00m \u001b[38;5;21;01mrioxarray\u001b[39;00m \u001b[38;5;28;01mas\u001b[39;00m \u001b[38;5;21;01mrxr\u001b[39;00m\n\u001b[0;32m      4\u001b[0m pm_read\u001b[38;5;241m.\u001b[39mrio\u001b[38;5;241m.\u001b[39mto_raster(\u001b[38;5;124m'\u001b[39m\u001b[38;5;124mD:\u001b[39m\u001b[38;5;124m\\\u001b[39m\u001b[38;5;124mAttibutable death & PM2.5\u001b[39m\u001b[38;5;124m\\\u001b[39m\u001b[38;5;124mData\u001b[39m\u001b[38;5;124m\\\u001b[39m\u001b[38;5;124mGOCI_PM25_2015_2018_Yonsei\u001b[39m\u001b[38;5;124m\\\u001b[39m\u001b[38;5;124mPM25_2015_localsatellite\u001b[39m\u001b[38;5;124m\\\u001b[39m\u001b[38;5;124mPM_NKSK_hdf\u001b[39m\u001b[38;5;124m'\u001b[39m)\n",
      "\u001b[1;31mModuleNotFoundError\u001b[0m: No module named 'rioxarray'"
     ]
    }
   ],
   "source": [
    "\n",
    "\n"
   ]
  },
  {
   "cell_type": "code",
   "execution_count": null,
   "id": "c795698c",
   "metadata": {},
   "outputs": [],
   "source": []
  }
 ],
 "metadata": {
  "kernelspec": {
   "display_name": "Python 3 (ipykernel)",
   "language": "python",
   "name": "python3"
  },
  "language_info": {
   "codemirror_mode": {
    "name": "ipython",
    "version": 3
   },
   "file_extension": ".py",
   "mimetype": "text/x-python",
   "name": "python",
   "nbconvert_exporter": "python",
   "pygments_lexer": "ipython3",
   "version": "3.9.12"
  }
 },
 "nbformat": 4,
 "nbformat_minor": 5
}
